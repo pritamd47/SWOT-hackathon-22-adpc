{
 "cells": [
  {
   "cell_type": "code",
   "execution_count": 34,
   "metadata": {},
   "outputs": [],
   "source": [
    "import pandas as pd\n",
    "import geopandas as gpd\n",
    "import matplotlib.pyplot as plt\n",
    "from shapely.geometry import Point\n",
    "import os\n",
    "\n",
    "import warnings\n",
    "warnings.filterwarnings('ignore')"
   ]
  },
  {
   "cell_type": "code",
   "execution_count": 49,
   "metadata": {},
   "outputs": [
    {
     "data": {
      "text/html": [
       "<div>\n",
       "<style scoped>\n",
       "    .dataframe tbody tr th:only-of-type {\n",
       "        vertical-align: middle;\n",
       "    }\n",
       "\n",
       "    .dataframe tbody tr th {\n",
       "        vertical-align: top;\n",
       "    }\n",
       "\n",
       "    .dataframe thead th {\n",
       "        text-align: right;\n",
       "    }\n",
       "</style>\n",
       "<table border=\"1\" class=\"dataframe\">\n",
       "  <thead>\n",
       "    <tr style=\"text-align: right;\">\n",
       "      <th></th>\n",
       "      <th>reach_id</th>\n",
       "      <th>node_id</th>\n",
       "      <th>time</th>\n",
       "      <th>time_tai</th>\n",
       "      <th>time_str</th>\n",
       "      <th>lat</th>\n",
       "      <th>lon</th>\n",
       "      <th>lat_u</th>\n",
       "      <th>lon_u</th>\n",
       "      <th>river_name</th>\n",
       "      <th>...</th>\n",
       "      <th>p_wse_var</th>\n",
       "      <th>p_width</th>\n",
       "      <th>p_wid_var</th>\n",
       "      <th>p_dist_out</th>\n",
       "      <th>p_length</th>\n",
       "      <th>p_dam_id</th>\n",
       "      <th>p_n_ch_max</th>\n",
       "      <th>p_n_ch_mod</th>\n",
       "      <th>geometry</th>\n",
       "      <th>date</th>\n",
       "    </tr>\n",
       "  </thead>\n",
       "  <tbody>\n",
       "    <tr>\n",
       "      <th>504</th>\n",
       "      <td>44250000201</td>\n",
       "      <td>44250000200451</td>\n",
       "      <td>6.915947e+08</td>\n",
       "      <td>6.915946e+08</td>\n",
       "      <td>2021-11-30T13:3745Z</td>\n",
       "      <td>15.035078</td>\n",
       "      <td>105.863843</td>\n",
       "      <td>0.000007</td>\n",
       "      <td>0.000046</td>\n",
       "      <td>*</td>\n",
       "      <td>...</td>\n",
       "      <td>0.000347</td>\n",
       "      <td>779.0</td>\n",
       "      <td>218.250000</td>\n",
       "      <td>870822.546</td>\n",
       "      <td>211.430920</td>\n",
       "      <td>0</td>\n",
       "      <td>1</td>\n",
       "      <td>1</td>\n",
       "      <td>POINT (105.86323 15.03456)</td>\n",
       "      <td>2021-11-30</td>\n",
       "    </tr>\n",
       "    <tr>\n",
       "      <th>505</th>\n",
       "      <td>44250000201</td>\n",
       "      <td>44250000200461</td>\n",
       "      <td>6.915947e+08</td>\n",
       "      <td>6.915946e+08</td>\n",
       "      <td>2021-11-30T13:3745Z</td>\n",
       "      <td>15.036048</td>\n",
       "      <td>105.860900</td>\n",
       "      <td>0.000004</td>\n",
       "      <td>0.000023</td>\n",
       "      <td>*</td>\n",
       "      <td>...</td>\n",
       "      <td>0.000306</td>\n",
       "      <td>918.0</td>\n",
       "      <td>5771.061224</td>\n",
       "      <td>871038.950</td>\n",
       "      <td>216.404335</td>\n",
       "      <td>0</td>\n",
       "      <td>1</td>\n",
       "      <td>1</td>\n",
       "      <td>POINT (105.86248 15.03633)</td>\n",
       "      <td>2021-11-30</td>\n",
       "    </tr>\n",
       "    <tr>\n",
       "      <th>506</th>\n",
       "      <td>44250000201</td>\n",
       "      <td>44250000200471</td>\n",
       "      <td>6.915947e+08</td>\n",
       "      <td>6.915946e+08</td>\n",
       "      <td>2021-11-30T13:3745Z</td>\n",
       "      <td>15.038595</td>\n",
       "      <td>105.864219</td>\n",
       "      <td>0.000003</td>\n",
       "      <td>0.000020</td>\n",
       "      <td>*</td>\n",
       "      <td>...</td>\n",
       "      <td>0.000000</td>\n",
       "      <td>898.0</td>\n",
       "      <td>560.222222</td>\n",
       "      <td>871235.854</td>\n",
       "      <td>196.903696</td>\n",
       "      <td>0</td>\n",
       "      <td>2</td>\n",
       "      <td>1</td>\n",
       "      <td>POINT (105.86221 15.03809)</td>\n",
       "      <td>2021-11-30</td>\n",
       "    </tr>\n",
       "    <tr>\n",
       "      <th>507</th>\n",
       "      <td>44250000201</td>\n",
       "      <td>44250000200481</td>\n",
       "      <td>6.915947e+08</td>\n",
       "      <td>6.915946e+08</td>\n",
       "      <td>2021-11-30T13:3745Z</td>\n",
       "      <td>15.040455</td>\n",
       "      <td>105.862183</td>\n",
       "      <td>0.000004</td>\n",
       "      <td>0.000026</td>\n",
       "      <td>*</td>\n",
       "      <td>...</td>\n",
       "      <td>0.000000</td>\n",
       "      <td>853.0</td>\n",
       "      <td>1090.640000</td>\n",
       "      <td>871427.948</td>\n",
       "      <td>192.093782</td>\n",
       "      <td>0</td>\n",
       "      <td>1</td>\n",
       "      <td>1</td>\n",
       "      <td>POINT (105.86122 15.03952)</td>\n",
       "      <td>2021-11-30</td>\n",
       "    </tr>\n",
       "    <tr>\n",
       "      <th>508</th>\n",
       "      <td>44250000201</td>\n",
       "      <td>44250000200491</td>\n",
       "      <td>6.915947e+08</td>\n",
       "      <td>6.915946e+08</td>\n",
       "      <td>2021-11-30T13:3745Z</td>\n",
       "      <td>15.039840</td>\n",
       "      <td>105.859207</td>\n",
       "      <td>0.000004</td>\n",
       "      <td>0.000029</td>\n",
       "      <td>*</td>\n",
       "      <td>...</td>\n",
       "      <td>0.000000</td>\n",
       "      <td>801.0</td>\n",
       "      <td>2716.560000</td>\n",
       "      <td>871616.608</td>\n",
       "      <td>188.660753</td>\n",
       "      <td>0</td>\n",
       "      <td>1</td>\n",
       "      <td>1</td>\n",
       "      <td>POINT (105.85984 15.04058)</td>\n",
       "      <td>2021-11-30</td>\n",
       "    </tr>\n",
       "  </tbody>\n",
       "</table>\n",
       "<p>5 rows × 54 columns</p>\n",
       "</div>"
      ],
      "text/plain": [
       "        reach_id         node_id          time      time_tai  \\\n",
       "504  44250000201  44250000200451  6.915947e+08  6.915946e+08   \n",
       "505  44250000201  44250000200461  6.915947e+08  6.915946e+08   \n",
       "506  44250000201  44250000200471  6.915947e+08  6.915946e+08   \n",
       "507  44250000201  44250000200481  6.915947e+08  6.915946e+08   \n",
       "508  44250000201  44250000200491  6.915947e+08  6.915946e+08   \n",
       "\n",
       "                time_str        lat         lon     lat_u     lon_u  \\\n",
       "504  2021-11-30T13:3745Z  15.035078  105.863843  0.000007  0.000046   \n",
       "505  2021-11-30T13:3745Z  15.036048  105.860900  0.000004  0.000023   \n",
       "506  2021-11-30T13:3745Z  15.038595  105.864219  0.000003  0.000020   \n",
       "507  2021-11-30T13:3745Z  15.040455  105.862183  0.000004  0.000026   \n",
       "508  2021-11-30T13:3745Z  15.039840  105.859207  0.000004  0.000029   \n",
       "\n",
       "    river_name  ...  p_wse_var  p_width    p_wid_var  p_dist_out    p_length  \\\n",
       "504          *  ...   0.000347    779.0   218.250000  870822.546  211.430920   \n",
       "505          *  ...   0.000306    918.0  5771.061224  871038.950  216.404335   \n",
       "506          *  ...   0.000000    898.0   560.222222  871235.854  196.903696   \n",
       "507          *  ...   0.000000    853.0  1090.640000  871427.948  192.093782   \n",
       "508          *  ...   0.000000    801.0  2716.560000  871616.608  188.660753   \n",
       "\n",
       "     p_dam_id  p_n_ch_max  p_n_ch_mod                    geometry       date  \n",
       "504         0           1           1  POINT (105.86323 15.03456) 2021-11-30  \n",
       "505         0           1           1  POINT (105.86248 15.03633) 2021-11-30  \n",
       "506         0           2           1  POINT (105.86221 15.03809) 2021-11-30  \n",
       "507         0           1           1  POINT (105.86122 15.03952) 2021-11-30  \n",
       "508         0           1           1  POINT (105.85984 15.04058) 2021-11-30  \n",
       "\n",
       "[5 rows x 54 columns]"
      ]
     },
     "execution_count": 49,
     "metadata": {},
     "output_type": "execute_result"
    }
   ],
   "source": [
    "file_dir = \"../rivertile\"\n",
    "proj_str = \"+proj=eqc +lon_0=105.2050781 +lat_ts=14.5376876 +datum=WGS84 +units=m +no_defs\"  # obtained from https://projectionwizard.org/# by selecting the region of interest (SE Asia) and chose `Equidistant` option\n",
    "\n",
    "files =  [os.path.join(file_dir, fn) for fn in os.listdir(file_dir) if fn.endswith('_nodes.shp')]\n",
    "\n",
    "\n",
    "# Let's plot one of these files to look at how they are represented\n",
    "fn1 = files[0]\n",
    "gdf1 = gpd.read_file(fn1)\n",
    "\n",
    "nodata_val = -999999999999.0\n",
    "gdf1_filtered = gdf1[gdf1['wse'] != nodata_val]\n",
    "gdf1_filtered['date'] = gdf1_filtered['time_str'].apply(lambda val: pd.to_datetime(val.split('T')[0]))\n",
    "gdf1_filtered.head()\n"
   ]
  },
  {
   "cell_type": "code",
   "execution_count": 50,
   "metadata": {},
   "outputs": [
    {
     "data": {
      "text/plain": [
       "Text(0.5, 1.0, 'Observation Date: 2021-11-30 00:00:00')"
      ]
     },
     "execution_count": 50,
     "metadata": {},
     "output_type": "execute_result"
    },
    {
     "data": {
      "image/png": "[encoded data removed]",
      "text/plain": [
       "<Figure size 432x288 with 1 Axes>"
      ]
     },
     "metadata": {
      "needs_background": "light"
     },
     "output_type": "display_data"
    }
   ],
   "source": [
    "virtual_station = Point(105.7, 15.2)\n",
    "virtual_station_gdf = gpd.GeoDataFrame({'name': ['virtual station 1']}, geometry=[virtual_station], crs='EPSG:4326')\n",
    "\n",
    "obs_date = gdf1_filtered['date'].iloc[0]\n",
    "\n",
    "gdf1_filtered.plot('wse')  # plotting the WSE from SWOT\n",
    "plt.scatter(virtual_station.x, virtual_station.y, marker='o', s=100, ec='black', fc='none')\n",
    "plt.title(f\"Observation Date: {obs_date}\")"
   ]
  },
  {
   "cell_type": "code",
   "execution_count": 51,
   "metadata": {},
   "outputs": [
    {
     "data": {
      "text/html": [
       "<div>\n",
       "<style scoped>\n",
       "    .dataframe tbody tr th:only-of-type {\n",
       "        vertical-align: middle;\n",
       "    }\n",
       "\n",
       "    .dataframe tbody tr th {\n",
       "        vertical-align: top;\n",
       "    }\n",
       "\n",
       "    .dataframe thead th {\n",
       "        text-align: right;\n",
       "    }\n",
       "</style>\n",
       "<table border=\"1\" class=\"dataframe\">\n",
       "  <thead>\n",
       "    <tr style=\"text-align: right;\">\n",
       "      <th></th>\n",
       "      <th>name</th>\n",
       "      <th>geometry</th>\n",
       "      <th>index_right</th>\n",
       "      <th>reach_id</th>\n",
       "      <th>node_id</th>\n",
       "      <th>time</th>\n",
       "      <th>time_tai</th>\n",
       "      <th>time_str</th>\n",
       "      <th>lat</th>\n",
       "      <th>lon</th>\n",
       "      <th>...</th>\n",
       "      <th>p_wse</th>\n",
       "      <th>p_wse_var</th>\n",
       "      <th>p_width</th>\n",
       "      <th>p_wid_var</th>\n",
       "      <th>p_dist_out</th>\n",
       "      <th>p_length</th>\n",
       "      <th>p_dam_id</th>\n",
       "      <th>p_n_ch_max</th>\n",
       "      <th>p_n_ch_mod</th>\n",
       "      <th>date</th>\n",
       "    </tr>\n",
       "  </thead>\n",
       "  <tbody>\n",
       "    <tr>\n",
       "      <th>0</th>\n",
       "      <td>virtual station 1</td>\n",
       "      <td>POINT (105.70000 15.20000)</td>\n",
       "      <td>640</td>\n",
       "      <td>44250000231</td>\n",
       "      <td>44250000230311</td>\n",
       "      <td>6.915947e+08</td>\n",
       "      <td>6.915946e+08</td>\n",
       "      <td>2021-11-30T13:3747Z</td>\n",
       "      <td>15.193011</td>\n",
       "      <td>105.694622</td>\n",
       "      <td>...</td>\n",
       "      <td>90.0</td>\n",
       "      <td>0.0</td>\n",
       "      <td>1627.0</td>\n",
       "      <td>158.56</td>\n",
       "      <td>898229.097</td>\n",
       "      <td>181.794665</td>\n",
       "      <td>0</td>\n",
       "      <td>2</td>\n",
       "      <td>2</td>\n",
       "      <td>2021-11-30</td>\n",
       "    </tr>\n",
       "  </tbody>\n",
       "</table>\n",
       "<p>1 rows × 56 columns</p>\n",
       "</div>"
      ],
      "text/plain": [
       "                name                    geometry  index_right     reach_id  \\\n",
       "0  virtual station 1  POINT (105.70000 15.20000)          640  44250000231   \n",
       "\n",
       "          node_id          time      time_tai             time_str        lat  \\\n",
       "0  44250000230311  6.915947e+08  6.915946e+08  2021-11-30T13:3747Z  15.193011   \n",
       "\n",
       "          lon  ...  p_wse  p_wse_var p_width  p_wid_var  p_dist_out  \\\n",
       "0  105.694622  ...   90.0        0.0  1627.0     158.56  898229.097   \n",
       "\n",
       "     p_length  p_dam_id  p_n_ch_max  p_n_ch_mod       date  \n",
       "0  181.794665         0           2           2 2021-11-30  \n",
       "\n",
       "[1 rows x 56 columns]"
      ]
     },
     "execution_count": 51,
     "metadata": {},
     "output_type": "execute_result"
    }
   ],
   "source": [
    "height = virtual_station_gdf.sjoin_nearest(gdf1_filtered)\n",
    "height"
   ]
  },
  {
   "cell_type": "code",
   "execution_count": 52,
   "metadata": {},
   "outputs": [
    {
     "data": {
      "text/plain": [
       "(15.18, 15.22)"
      ]
     },
     "execution_count": 52,
     "metadata": {},
     "output_type": "execute_result"
    },
    {
     "data": {
      "image/png": "[encoded data removed]",
      "text/plain": [
       "<Figure size 432x288 with 1 Axes>"
      ]
     },
     "metadata": {
      "needs_background": "light"
     },
     "output_type": "display_data"
    }
   ],
   "source": [
    "f, ax = plt.subplots()\n",
    "\n",
    "gdf1_filtered.plot('wse', ax=ax, alpha=0.2)  # plotting the WSE from SWOT\n",
    "gdf1_filtered.loc[gdf1_filtered['node_id'].values==height['node_id'].values].plot('wse', s=50, ax=ax)\n",
    "ax.scatter(virtual_station.x, virtual_station.y, marker='o', s=100, ec='black', fc='none')\n",
    "ax.scatter(height.geometry.x, height.geometry.y, marker='o', s=50, c='red')\n",
    "plt.xlim(105.68, 105.72)\n",
    "plt.ylim(15.18, 15.22)\n",
    "# plt.title(f\"Observation Date: {obs_date}\")"
   ]
  },
  {
   "cell_type": "code",
   "execution_count": 109,
   "metadata": {},
   "outputs": [
    {
     "data": {
      "text/plain": [
       "<matplotlib.legend.Legend at 0x1745758e0>"
      ]
     },
     "execution_count": 109,
     "metadata": {},
     "output_type": "execute_result"
    },
    {
     "data": {
      "image/png": "[encoded data removed]",
      "text/plain": [
       "<Figure size 432x288 with 2 Axes>"
      ]
     },
     "metadata": {
      "needs_background": "light"
     },
     "output_type": "display_data"
    }
   ],
   "source": [
    "def get_height(fn, virtual_station_location, proj_str, max_distance=2e3, verbose=False):\n",
    "    \"\"\"Returns the height using the node nearest to the virtual station\n",
    "\n",
    "    Args:\n",
    "        fn (str): file path of the _node.shp file\n",
    "        virtual_station_location (shpely.geoemtry.Point): Point specifying the location of the virtual station\n",
    "        proj_str (str): A `proj` string or EPSG code in `EPSG:<code>` format that will be used to transform the datasets into a consistent projection. The projection should preserve the distance for the region of interest\n",
    "        max_distance (float): Maximum distance up to which the nodes will be considered in meters. Default = 2000 m\n",
    "        verbose (bool): if True, the result of the spatial join will be returned, else the average height value will be returned. Default = False\n",
    "\n",
    "    Returns:\n",
    "        tuple(pd.Timestamp, ): _description_\n",
    "    \"\"\"\n",
    "    gdf1 = gpd.read_file(fn)\n",
    "    orig_proj = gdf1.crs\n",
    "    gdf1 = gdf1.to_crs(proj_str)\n",
    "\n",
    "    nodata_val = -999999999999.0\n",
    "    gdf1_filtered = gdf1[gdf1['wse'] != nodata_val]\n",
    "    gdf1_filtered['date'] = gdf1_filtered['time_str'].apply(lambda val: pd.to_datetime(val.split('T')[0]))\n",
    "\n",
    "    virtual_station_gdf = gpd.GeoDataFrame({'name': ['virtual station 1']}, geometry=[virtual_station_location], crs='EPSG:4326').to_crs(proj_str)\n",
    "\n",
    "    obs_date = gdf1_filtered['date'].iloc[0]\n",
    "\n",
    "    # Join based on spatial distance\n",
    "    height = gdf1_filtered.sjoin_nearest(virtual_station_gdf, max_distance=max_distance, distance_col='distance')\n",
    "    \n",
    "    if verbose:\n",
    "        return obs_date, height.to_crs(orig_proj)\n",
    "    else:\n",
    "        h = height['wse'].mean()\n",
    "        return obs_date, h\n",
    "\n",
    "# Let's try to get the height for another date\n",
    "d, h = get_height(files[1], virtual_station, proj_str, verbose=True)\n",
    "\n",
    "# Let's plot\n",
    "f, ax = plt.subplots()\n",
    "\n",
    "gdf1_filtered.plot(ax=ax, alpha=0.6, label='SWORD v08 Nodes', markersize=5)  # plotting the WSE from SWOT\n",
    "# gdf1_filtered.loc[gdf1_filtered['node_id'].values==height['node_id'].values].plot('wse', s=50, ax=ax)\n",
    "ax.scatter(virtual_station.x, virtual_station.y, marker='x', s=100, ec='black', fc='none', label='Virtual Station')\n",
    "h.plot('wse', marker='o', s=50, cmap='inferno', ax=ax, legend=True, legend_kwds={'label': 'Height (m)'}, label='Simulated heights')\n",
    "ax.set_xlim(105.66, 105.74)\n",
    "ax.set_ylim(15.16, 15.24)\n",
    "ax.grid(alpha=0.3)\n",
    "ax.set_title(f\"Simulated heights on {d.strftime('%Y-%m-%d')}\\nMekong River near Pakse, Lao PDR\")\n",
    "ax.legend()"
   ]
  },
  {
   "cell_type": "code",
   "execution_count": 110,
   "metadata": {},
   "outputs": [
    {
     "name": "stdout",
     "output_type": "stream",
     "text": [
      "Processing ../rivertile/SWOT_L2_HR_RiverTile_016_577_181L_20211130T133743_20211130T133754_Dx0000_01_nodes.shp\n",
      "Processing ../rivertile/SWOT_L2_HR_RiverTile_015_577_181L_20211109T165245_20211109T165257_Dx0000_01_nodes.shp\n",
      "Processing ../rivertile/SWOT_L2_HR_RiverTile_017_090_128L_20211204T003909_20211204T003920_Dx0000_01_nodes.shp\n",
      "Processing ../rivertile/SWOT_L2_HR_RiverTile_020_090_128L_20220204T145401_20220204T145411_Dx0000_01_nodes.shp\n",
      "Processing ../rivertile/SWOT_L2_HR_RiverTile_014_090_128R_20211002T102418_20211002T102429_Dx0000_01_nodes.shp\n",
      "Processing ../rivertile/SWOT_L2_HR_RiverTile_018_090_128L_20211224T212407_20211224T212417_Dx0000_01_nodes.shp\n",
      "Processing ../rivertile/SWOT_L2_HR_RiverTile_016_090_128R_20211113T035412_20211113T035423_Dx0000_01_nodes.shp\n",
      "Processing ../rivertile/SWOT_L2_HR_RiverTile_021_090_128R_20220225T113858_20220225T113908_Dx0000_01_nodes.shp\n",
      "Processing ../rivertile/SWOT_L2_HR_RiverTile_015_090_128R_20211023T070915_20211023T070926_Dx0000_01_nodes.shp\n",
      "Processing ../rivertile/SWOT_L2_HR_RiverTile_019_090_128L_20220114T180904_20220114T180914_Dx0000_01_nodes.shp\n",
      "Processing ../rivertile/SWOT_L2_HR_RiverTile_017_090_128R_20211204T003909_20211204T003920_Dx0000_01_nodes.shp\n",
      "Processing ../rivertile/SWOT_L2_HR_RiverTile_018_577_181L_20220111T070737_20220111T070748_Dx0000_01_nodes.shp\n",
      "Processing ../rivertile/SWOT_L2_HR_RiverTile_020_577_181L_20220222T003731_20220222T003742_Dx0000_01_nodes.shp\n",
      "Processing ../rivertile/SWOT_L2_HR_RiverTile_019_577_181L_20220201T035234_20220201T035245_Dx0000_01_nodes.shp\n",
      "Processing ../rivertile/SWOT_L2_HR_RiverTile_019_090_128R_20220114T180904_20220114T180914_Dx0000_01_nodes.shp\n",
      "Processing ../rivertile/SWOT_L2_HR_RiverTile_015_090_128L_20211023T070915_20211023T070926_Dx0000_01_nodes.shp\n",
      "Processing ../rivertile/SWOT_L2_HR_RiverTile_021_090_128L_20220225T113858_20220225T113908_Dx0000_01_nodes.shp\n",
      "Processing ../rivertile/SWOT_L2_HR_RiverTile_016_090_128L_20211113T035412_20211113T035423_Dx0000_01_nodes.shp\n",
      "Processing ../rivertile/SWOT_L2_HR_RiverTile_017_577_181L_20211221T102240_20211221T102251_Dx0000_01_nodes.shp\n",
      "Processing ../rivertile/SWOT_L2_HR_RiverTile_018_090_128R_20211224T212407_20211224T212417_Dx0000_01_nodes.shp\n",
      "Processing ../rivertile/SWOT_L2_HR_RiverTile_014_090_128L_20211002T102418_20211002T102429_Dx0000_01_nodes.shp\n",
      "Processing ../rivertile/SWOT_L2_HR_RiverTile_020_090_128R_20220204T145401_20220204T145411_Dx0000_01_nodes.shp\n",
      "Processing ../rivertile/SWOT_L2_HR_RiverTile_014_577_181L_20211019T200748_20211019T200800_Dx0000_01_nodes.shp\n"
     ]
    },
    {
     "data": {
      "text/html": [
       "<div>\n",
       "<style scoped>\n",
       "    .dataframe tbody tr th:only-of-type {\n",
       "        vertical-align: middle;\n",
       "    }\n",
       "\n",
       "    .dataframe tbody tr th {\n",
       "        vertical-align: top;\n",
       "    }\n",
       "\n",
       "    .dataframe thead th {\n",
       "        text-align: right;\n",
       "    }\n",
       "</style>\n",
       "<table border=\"1\" class=\"dataframe\">\n",
       "  <thead>\n",
       "    <tr style=\"text-align: right;\">\n",
       "      <th></th>\n",
       "      <th>height</th>\n",
       "    </tr>\n",
       "    <tr>\n",
       "      <th>date</th>\n",
       "      <th></th>\n",
       "    </tr>\n",
       "  </thead>\n",
       "  <tbody>\n",
       "    <tr>\n",
       "      <th>2021-11-30</th>\n",
       "      <td>109.336628</td>\n",
       "    </tr>\n",
       "    <tr>\n",
       "      <th>2021-11-09</th>\n",
       "      <td>109.331942</td>\n",
       "    </tr>\n",
       "    <tr>\n",
       "      <th>2021-12-04</th>\n",
       "      <td>NaN</td>\n",
       "    </tr>\n",
       "    <tr>\n",
       "      <th>2022-02-04</th>\n",
       "      <td>NaN</td>\n",
       "    </tr>\n",
       "    <tr>\n",
       "      <th>2021-10-02</th>\n",
       "      <td>109.308794</td>\n",
       "    </tr>\n",
       "  </tbody>\n",
       "</table>\n",
       "</div>"
      ],
      "text/plain": [
       "                height\n",
       "date                  \n",
       "2021-11-30  109.336628\n",
       "2021-11-09  109.331942\n",
       "2021-12-04         NaN\n",
       "2022-02-04         NaN\n",
       "2021-10-02  109.308794"
      ]
     },
     "execution_count": 110,
     "metadata": {},
     "output_type": "execute_result"
    }
   ],
   "source": [
    "# We can now get the time-series\n",
    "dates = []\n",
    "heights = []\n",
    "for fn in files:\n",
    "    print(f\"Processing {fn}\")\n",
    "    date, h = get_height(fn, virtual_station, proj_str)\n",
    "\n",
    "    dates.append(date)\n",
    "    heights.append(h)\n",
    "\n",
    "virtual_station_heights = pd.DataFrame({'date': dates, 'height': heights}).set_index('date')\n",
    "virtual_station_heights.head()"
   ]
  },
  {
   "cell_type": "code",
   "execution_count": 111,
   "metadata": {},
   "outputs": [
    {
     "data": {
      "text/plain": [
       "<AxesSubplot:xlabel='date'>"
      ]
     },
     "execution_count": 111,
     "metadata": {},
     "output_type": "execute_result"
    },
    {
     "data": {
      "image/png": "[encoded data removed]",
      "text/plain": [
       "<Figure size 432x288 with 1 Axes>"
      ]
     },
     "metadata": {
      "needs_background": "light"
     },
     "output_type": "display_data"
    }
   ],
   "source": [
    "virtual_station_heights.plot(marker='o', linewidth=0)"
   ]
  },
  {
   "cell_type": "code",
   "execution_count": null,
   "metadata": {},
   "outputs": [],
   "source": []
  }
 ],
 "metadata": {
  "interpreter": {
   "hash": "2bd76d7b07c0e3fa23721754de28049be2bfde6e8036b0d0574e1016dcb1494b"
  },
  "kernelspec": {
   "display_name": "Python 3.9.6 ('sc')",
   "language": "python",
   "name": "python3"
  },
  "language_info": {
   "codemirror_mode": {
    "name": "ipython",
    "version": 3
   },
   "file_extension": ".py",
   "mimetype": "text/x-python",
   "name": "python",
   "nbconvert_exporter": "python",
   "pygments_lexer": "ipython3",
   "version": "3.9.6"
  },
  "orig_nbformat": 4
 },
 "nbformat": 4,
 "nbformat_minor": 2
}
